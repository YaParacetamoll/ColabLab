{
  "nbformat": 4,
  "nbformat_minor": 0,
  "metadata": {
    "colab": {
      "provenance": [],
      "collapsed_sections": [
        "cdXEQl61sj37",
        "_TZs5piaz7aa",
        "ZNc2o-X73WbS",
        "MtoNX1utC8__",
        "c16Ti0KrG2sF",
        "IasRVSRxG5mk",
        "nJoAvQ_GHFtJ",
        "yavsJdkRHAqi"
      ]
    },
    "kernelspec": {
      "name": "python3",
      "display_name": "Python 3"
    },
    "language_info": {
      "name": "python"
    }
  },
  "cells": [
    {
      "cell_type": "markdown",
      "metadata": {
        "id": "view-in-github",
        "colab_type": "text"
      },
      "source": [
        "<a href=\"https://colab.research.google.com/github/YaParacetamoll/ColabLab/blob/main/ShortBasicPython.ipynb\" target=\"_parent\"><img src=\"https://colab.research.google.com/assets/colab-badge.svg\" alt=\"Open In Colab\"/></a>"
      ]
    },
    {
      "cell_type": "markdown",
      "source": [
        "# **สำรวจ Python**\n",
        "---"
      ],
      "metadata": {
        "id": "cdXEQl61sj37"
      }
    },
    {
      "cell_type": "markdown",
      "source": [
        "Cisco 3.1.12 Lab - Explore Python Development Tools - ILM\n",
        "- Review the Python Installation\n",
        "- PIP and Python"
      ],
      "metadata": {
        "id": "3A2tZzRcvKGM"
      }
    },
    {
      "cell_type": "code",
      "execution_count": 4,
      "metadata": {
        "colab": {
          "base_uri": "https://localhost:8080/",
          "height": 0
        },
        "id": "0wQWgtqCsEPx",
        "outputId": "6ea918d3-1ee2-4f48-a3b0-a1acb74c49d7"
      },
      "outputs": [
        {
          "output_type": "stream",
          "name": "stdout",
          "text": [
            "Python 3.10.12\n"
          ]
        }
      ],
      "source": [
        "# Check เวอร์ชั่น Python\n",
        "!python -V"
      ]
    },
    {
      "cell_type": "code",
      "source": [
        "# ดูdirectoryที่เก็บ python\n",
        "!which python"
      ],
      "metadata": {
        "colab": {
          "base_uri": "https://localhost:8080/",
          "height": 0
        },
        "id": "yxyaTsqatIK0",
        "outputId": "4c982755-90b7-4f0e-b5f3-604941aa11e0"
      },
      "execution_count": 7,
      "outputs": [
        {
          "output_type": "stream",
          "name": "stdout",
          "text": [
            "/usr/local/bin/python\n"
          ]
        }
      ]
    },
    {
      "cell_type": "code",
      "source": [
        "#  แสดงpackagesที่ติดตั้งแล้วในรูปแบบrequirements\n",
        "# file Output installed packages in requirements format.\n",
        "!pip freeze # > requirements.txt # หรือ python -m pip freeze"
      ],
      "metadata": {
        "id": "DdcW_yCZtopg"
      },
      "execution_count": null,
      "outputs": []
    },
    {
      "cell_type": "markdown",
      "source": [
        "# **Python Programming 101**\n",
        "---\n",
        "\n"
      ],
      "metadata": {
        "id": "hkTr1j7wvBdx"
      }
    },
    {
      "cell_type": "markdown",
      "source": [
        "Cisco 1.3.3 Lab - Python Programming Review - ILM\n",
        "- เริ่มต้น Python\n",
        "\n",
        "- ทบทวนชนิดข้อมูลและตัวแปร\n",
        "\n",
        "- ทบทวนlistและdict\n",
        "\n",
        "- ทบทวนฟังก์ชัน Input\n",
        "\n",
        "- ทบทวนฟังก์ชัน If, For และ While\n",
        "\n",
        "- ทบทวนวิธีการเข้าถึงไฟล์"
      ],
      "metadata": {
        "id": "JS2RAbPDxRMI"
      }
    },
    {
      "cell_type": "markdown",
      "source": [
        "## ฟังก์ชั่นแสดงผล และ Format String"
      ],
      "metadata": {
        "id": "_TZs5piaz7aa"
      }
    },
    {
      "cell_type": "code",
      "source": [
        "# ฟังก์ชั่นแสดงผล\n",
        "# Option : sep,end\n",
        "print(\"=====print(\\\"\\\")=====\")\n",
        "print(\"Comannd for boots your linux spped : sudo rm -fr \",sep=\"\",end=\"/\\n\")\n",
        "print(\"x\",\"x\",sep=\"-\")\n",
        "\n",
        "\n",
        "# Format String\n",
        "# แบบใช้ % เหมือนภาษา C\n",
        "print(\"=====Format String=====\")\n",
        "print(\"Comannd for boots your linux %04dx spped : sudo %s  -f%c /\" % (100,\"rm\",\"r\"))\n",
        "# แบบ .format 👍ดีสุด\n",
        "print(\"Comannd for boots your linux {0:>4d}x spped : sudo {2}  -f{1} /\".format(100,\"r\",\"rm\"))\n",
        "#แบบ f-string\n",
        "print(f\"Comannd for boots your linux {100:<4d}x spped : sudo {'r'}  -f{'r'} /\")"
      ],
      "metadata": {
        "colab": {
          "base_uri": "https://localhost:8080/",
          "height": 0
        },
        "id": "0ibb1EDlzyU6",
        "outputId": "81fc2217-5f1f-461f-9803-b584edf7f8b4"
      },
      "execution_count": 44,
      "outputs": [
        {
          "output_type": "stream",
          "name": "stdout",
          "text": [
            "=====print(\"\")=====\n",
            "Comannd for boots your linux spped : sudo rm -fr /\n",
            "x-x\n",
            "=====Format String=====\n",
            "Comannd for boots your linux 0100x spped : sudo rm  -fr /\n",
            "Comannd for boots your linux  100x spped : sudo rm  -fr /\n",
            "Comannd for boots your linux 100 x spped : sudo r  -fr /\n"
          ]
        }
      ]
    },
    {
      "cell_type": "code",
      "source": [
        "# print vs pprint\n",
        "from pprint import pprint\n",
        "x = [\n",
        "    {\n",
        "       \"ProductID\":\"1\",\n",
        "       \"ProductCode\":\"B-1\",\n",
        "       \"ProductName\":\"Chai\",\n",
        "       \"Description\":\"Black tea with a blend of cardamom, ginger, cloves and cinnamon\",\n",
        "       \"UnitPrice\":18\n",
        "    }\n",
        "]\n",
        "print(\"print\")\n",
        "print(x)\n",
        "print(\"pprint\")\n",
        "pprint(x)"
      ],
      "metadata": {
        "colab": {
          "base_uri": "https://localhost:8080/",
          "height": 0
        },
        "id": "Q36ic8QEAj4S",
        "outputId": "8534d4e0-593d-4ae5-b2ea-24d812d19243"
      },
      "execution_count": 70,
      "outputs": [
        {
          "output_type": "stream",
          "name": "stdout",
          "text": [
            "print\n",
            "[{'ProductID': '1', 'ProductCode': 'B-1', 'ProductName': 'Chai', 'Description': 'Black tea with a blend of cardamom, ginger, cloves and cinnamon', 'UnitPrice': 18}]\n",
            "pprint\n",
            "[{'Description': 'Black tea with a blend of cardamom, ginger, cloves and '\n",
            "                 'cinnamon',\n",
            "  'ProductCode': 'B-1',\n",
            "  'ProductID': '1',\n",
            "  'ProductName': 'Chai',\n",
            "  'UnitPrice': 18}]\n"
          ]
        }
      ]
    },
    {
      "cell_type": "markdown",
      "source": [
        "## ชนิดข้อมูลและตัวแปร"
      ],
      "metadata": {
        "id": "ZNc2o-X73WbS"
      }
    },
    {
      "cell_type": "code",
      "source": [
        "# int & float & string & bool\n",
        "x = 4\n",
        "print(type(x),type(4.00),type(str(x)),type(True))\n",
        "# list\n",
        "x = [\"R1\" ,1 ,\"R2\" ,2 ,\"R1\"]\n",
        "print(type(x),x)\n",
        "# tuple : ปรับเปลี่ยน(modify)ไม่ได้\n",
        "x = (\"R1\" ,1 ,\"R2\" ,2 ,\"R1\")\n",
        "print(type(x),x)\n",
        "# set : item ซ้ำไม่ได้\n",
        "x = set([\"R1\",1 ,\"R2\",2 ,\"R1\"])\n",
        "print(type(x),x)\n",
        "# dict : key ซ้ำไม่ได้\n",
        "x = {\"R1\":1 ,\"R2\":2 ,\"R1\":3}\n",
        "print(type(x),x)"
      ],
      "metadata": {
        "colab": {
          "base_uri": "https://localhost:8080/",
          "height": 0
        },
        "id": "N5n39Djc3Vy7",
        "outputId": "bdd5d416-79ab-42ab-8652-1db17b3b94e4"
      },
      "execution_count": 71,
      "outputs": [
        {
          "output_type": "stream",
          "name": "stdout",
          "text": [
            "<class 'int'> <class 'float'> <class 'str'> <class 'bool'>\n",
            "<class 'list'> ['R1', 1, 'R2', 2, 'R1']\n",
            "<class 'tuple'> ('R1', 1, 'R2', 2, 'R1')\n",
            "<class 'set'> {'R2', 1, 2, 'R1'}\n",
            "<class 'dict'> {'R1': 3, 'R2': 2}\n"
          ]
        }
      ]
    },
    {
      "cell_type": "markdown",
      "source": [
        "<img height=\"300px\" src=\"data:image/webp;base64,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\"  />"
      ],
      "metadata": {
        "id": "OPkek7Rv45fr"
      }
    },
    {
      "cell_type": "code",
      "source": [
        "# Non-zero value\n",
        "y = 10\n",
        "print(y)\n",
        "# 0\n",
        "y = 0\n",
        "print(y)\n",
        "# null\n",
        "y = None\n",
        "print(y)\n",
        "# undefined\n",
        "del y\n",
        "print(y)"
      ],
      "metadata": {
        "colab": {
          "base_uri": "https://localhost:8080/",
          "height": 233
        },
        "id": "xXkUf4h54fXU",
        "outputId": "3d90c6ee-baea-4d20-ff78-db9f74fa8c6b"
      },
      "execution_count": 45,
      "outputs": [
        {
          "output_type": "stream",
          "name": "stdout",
          "text": [
            "10\n",
            "0\n",
            "None\n"
          ]
        },
        {
          "output_type": "error",
          "ename": "NameError",
          "evalue": "name 'y' is not defined",
          "traceback": [
            "\u001b[0;31m---------------------------------------------------------------------------\u001b[0m",
            "\u001b[0;31mNameError\u001b[0m                                 Traceback (most recent call last)",
            "\u001b[0;32m<ipython-input-45-3ea883e4aaab>\u001b[0m in \u001b[0;36m<cell line: 8>\u001b[0;34m()\u001b[0m\n\u001b[1;32m      6\u001b[0m \u001b[0mprint\u001b[0m\u001b[0;34m(\u001b[0m\u001b[0my\u001b[0m\u001b[0;34m)\u001b[0m\u001b[0;34m\u001b[0m\u001b[0;34m\u001b[0m\u001b[0m\n\u001b[1;32m      7\u001b[0m \u001b[0;32mdel\u001b[0m \u001b[0my\u001b[0m\u001b[0;34m\u001b[0m\u001b[0;34m\u001b[0m\u001b[0m\n\u001b[0;32m----> 8\u001b[0;31m \u001b[0mprint\u001b[0m\u001b[0;34m(\u001b[0m \u001b[0my\u001b[0m\u001b[0;34m)\u001b[0m\u001b[0;34m\u001b[0m\u001b[0;34m\u001b[0m\u001b[0m\n\u001b[0m",
            "\u001b[0;31mNameError\u001b[0m: name 'y' is not defined"
          ]
        }
      ]
    },
    {
      "cell_type": "markdown",
      "source": [
        "## List\n",
        "list methods\n",
        "- list().append(item)\n",
        "- list().clear()\n",
        "- list().copy()\n",
        "- list().count(item)\n",
        "- list().extend(items)\n",
        "- list().index(item)\n",
        "- list().insert(index)\n",
        "- list().pop(index)\n",
        "- list().remove(item)\n",
        "- list().reverse()\n",
        "- list().sort(key= fn, reverse = bool)"
      ],
      "metadata": {
        "id": "MtoNX1utC8__"
      }
    },
    {
      "cell_type": "code",
      "source": [
        "# สร้าง List\n",
        "a = [1,2,3,4]\n",
        "b = list((1,2,3,4))\n",
        "item = 4\n",
        "print(a)\n",
        "print(b)"
      ],
      "metadata": {
        "colab": {
          "base_uri": "https://localhost:8080/",
          "height": 0
        },
        "id": "M_rzD4XqC65Q",
        "outputId": "69600ebb-7e23-4aa1-8daa-4a3598d793ac"
      },
      "execution_count": 106,
      "outputs": [
        {
          "output_type": "stream",
          "name": "stdout",
          "text": [
            "[1, 2, 3, 4]\n",
            "[1, 2, 3, 4]\n"
          ]
        }
      ]
    },
    {
      "cell_type": "code",
      "source": [
        "# List Methods\n",
        "print(a.append(5),end=\"\");            print(a) # เพิ่ม item เข้า list [1,2,3,4,5]\n",
        "print(a.clear(),end=\"\");              print(a) # ลบ item ทั้งหมดใน list []\n",
        "a = b.copy();                         print(a) # copy item b เข้า a\n",
        "print(a.count(item))                           # นับจำนวน itemที่เป็น item ใน list\n",
        "print(a.extend([6,7]),end=\"\");        print(a,b) # เพิ่ม items(หลายตัว) เข้า list [1,2,3,4,5,6,7]\n",
        "print(a.index(item))                           # หา index ของ item\n",
        "print(a.insert(0,0),end=\"\");          print(a) # insert(ระบุตำแหน่งได้) item เข้า list [0,1,2,3,4,5,6,7]\n",
        "print(a.pop(),end=\"\");                print(a) # ลบ item สุดท้ายออกจาก list\n",
        "print(a.remove(2),end=\"\");            print(a) # ลบ item ที่ระบุออกจาก list\n",
        "print(a.reverse(),end=\"\");            print(a) # สลับตำแหน่งorderของ item\n",
        "print(a.sort(),end=\"\");               print(a) # เรียงลำดับitem"
      ],
      "metadata": {
        "colab": {
          "base_uri": "https://localhost:8080/",
          "height": 0
        },
        "id": "R3CrC4raEHXq",
        "outputId": "2759b9f5-0af4-4749-b175-e5fd60f7ca41"
      },
      "execution_count": 110,
      "outputs": [
        {
          "output_type": "stream",
          "name": "stdout",
          "text": [
            "None[0, 1, 3, 4, 6, 5]\n",
            "None[]\n",
            "[1, 2, 3, 4]\n",
            "1\n",
            "None[1, 2, 3, 4, 6, 7] [1, 2, 3, 4]\n",
            "3\n",
            "None[0, 1, 2, 3, 4, 6, 7]\n",
            "7[0, 1, 2, 3, 4, 6]\n",
            "None[0, 1, 3, 4, 6]\n",
            "None[6, 4, 3, 1, 0]\n",
            "None[0, 1, 3, 4, 6]\n"
          ]
        }
      ]
    },
    {
      "cell_type": "code",
      "source": [
        "# ตัวอย่าง lambda fn\n",
        "key = lambda x,y : x>y\n",
        "print(key(1,2))"
      ],
      "metadata": {
        "colab": {
          "base_uri": "https://localhost:8080/",
          "height": 0
        },
        "id": "J3xiq29hICtW",
        "outputId": "06587cae-3cdb-423e-c3cd-7113a4ddf703"
      },
      "execution_count": 95,
      "outputs": [
        {
          "output_type": "stream",
          "name": "stdout",
          "text": [
            "False\n"
          ]
        }
      ]
    },
    {
      "cell_type": "markdown",
      "source": [
        "## Dict\n",
        "dict methods\n",
        "\n",
        "- dict().fromkeys(list)\n",
        "- dict().clear()\n",
        "- dict().copy()\n",
        "- dict().get()\n",
        "- dict().items()\n",
        "- dict().keys()\n",
        "- dict().values()\n",
        "- dict().pop()\n",
        "- dict().popitem()"
      ],
      "metadata": {
        "id": "c16Ti0KrG2sF"
      }
    },
    {
      "cell_type": "code",
      "source": [
        "# สร้าง dict\n",
        "a = {\"R1\":\"10.1.1.1\",\"R2\":\"10.2.2.1\",\"R3\":\"10.3.3.1\"}\n",
        "b = dict(R1=\"10.1.1.1\",R2=\"10.2.2.1\",R3=\"10.3.3.1\")\n",
        "print(a)\n",
        "key = \"R1\"\n",
        "print(a,a[key])"
      ],
      "metadata": {
        "colab": {
          "base_uri": "https://localhost:8080/",
          "height": 0
        },
        "id": "QI6ZEg1qG46Z",
        "outputId": "1285a029-b940-4dc8-e160-3f5e322d3308"
      },
      "execution_count": 130,
      "outputs": [
        {
          "output_type": "stream",
          "name": "stdout",
          "text": [
            "{'R1': '10.1.1.1', 'R2': '10.2.2.1', 'R3': '10.3.3.1'}\n",
            "{'R1': '10.1.1.1', 'R2': '10.2.2.1', 'R3': '10.3.3.1'} 10.1.1.1\n"
          ]
        }
      ]
    },
    {
      "cell_type": "code",
      "source": [
        "# Dict methods\n",
        "print(dict().fromkeys([\"R1\",\"R2\",\"R3\"]))                 # สร้าง dict จากlistโดยให้listเป็นkey\n",
        "a.clear();                                      print(a) # ลบ items ทั้งหมด\n",
        "a = b.copy();                                   print(a) # copy items\n",
        "r2 = a.get(\"R2\");                               print(r2) # get value ของ key\n",
        "b = a.items();                                  print(b) # return dict_items([('R1', '10.1.1.1'), ('R2', '10.2.2.1'), ('R3', '10.3.3.1')])\n",
        "b = a.keys();                                   print(b) # return dict_keys(['R1', 'R2', 'R3'])\n",
        "b = a.values();                                 print(b) # return dict_values(['10.1.1.1', '10.2.2.1', '10.3.3.1'])\n",
        "print(a.pop(\"R1\"),end=\"\\t\");                    print(a) # ลบ item ที่ระบุออกจาก dict\n",
        "print(a.popitem(),end=\"\\t\");                    print(a) # ลบ item สุดท้ายออกจาก dict"
      ],
      "metadata": {
        "colab": {
          "base_uri": "https://localhost:8080/",
          "height": 0
        },
        "id": "ajK8b3abJsQT",
        "outputId": "b72c405d-4207-41cd-af88-fc8b44301674"
      },
      "execution_count": 131,
      "outputs": [
        {
          "output_type": "stream",
          "name": "stdout",
          "text": [
            "{'R1': None, 'R2': None, 'R3': None}\n",
            "{}\n",
            "{'R1': '10.1.1.1', 'R2': '10.2.2.1', 'R3': '10.3.3.1'}\n",
            "10.2.2.1\n",
            "dict_items([('R1', '10.1.1.1'), ('R2', '10.2.2.1'), ('R3', '10.3.3.1')])\n",
            "dict_keys(['R1', 'R2', 'R3'])\n",
            "dict_values(['10.1.1.1', '10.2.2.1', '10.3.3.1'])\n",
            "10.1.1.1\t{'R2': '10.2.2.1', 'R3': '10.3.3.1'}\n",
            "('R3', '10.3.3.1')\t{'R2': '10.2.2.1'}\n"
          ]
        }
      ]
    },
    {
      "cell_type": "markdown",
      "source": [
        "## Input"
      ],
      "metadata": {
        "id": "IasRVSRxG5mk"
      }
    },
    {
      "cell_type": "code",
      "source": [
        "firstName = input(\"What is your first name? \")\n",
        "\n",
        "lastName = input(\"What is your last name? \")\n",
        "\n",
        "location = input(\"What is your location? \")\n",
        "\n",
        "age = input(\"What is your age? \")\n",
        "\n",
        "print(\"Hi \" + firstName, lastName + \"! Your location is \" + location + \" and you are \" + age + \" years old.\")"
      ],
      "metadata": {
        "colab": {
          "base_uri": "https://localhost:8080/",
          "height": 0
        },
        "id": "Un6y1F9hHEYQ",
        "outputId": "390bbf67-53cd-4276-d1e2-c0897ef37766"
      },
      "execution_count": 132,
      "outputs": [
        {
          "output_type": "stream",
          "name": "stdout",
          "text": [
            "What is your first name? xxx\n",
            "What is your last name? xxx\n",
            "What is your location? xxx\n",
            "What is your age? zzz\n",
            "Hi xxx xxx! Your location is xxx and you are zzz years old.\n"
          ]
        }
      ]
    },
    {
      "cell_type": "markdown",
      "source": [
        "## If, For และ While"
      ],
      "metadata": {
        "id": "nJoAvQ_GHFtJ"
      }
    },
    {
      "cell_type": "markdown",
      "source": [
        "If - Else - Elif"
      ],
      "metadata": {
        "id": "3bLbxNfyPEQL"
      }
    },
    {
      "cell_type": "code",
      "source": [
        "def if_else_elif(x):\n",
        "    if x > 1:\n",
        "        print(\"x is greater than one\")\n",
        "    elif x < 1:\n",
        "        print(\"x is less than one\")\n",
        "    else:\n",
        "        print(\"x is equal to one\")\n",
        "\n",
        "if_else_elif(1)\n",
        "if_else_elif(2)\n",
        "if_else_elif(0)"
      ],
      "metadata": {
        "colab": {
          "base_uri": "https://localhost:8080/",
          "height": 0
        },
        "id": "Jo6BcWdCPDa7",
        "outputId": "16b9fcb8-b19c-45a8-f030-f030185c3912"
      },
      "execution_count": 140,
      "outputs": [
        {
          "output_type": "stream",
          "name": "stdout",
          "text": [
            "x is equal to one\n",
            "x is greater than one\n",
            "x is less than one\n"
          ]
        }
      ]
    },
    {
      "cell_type": "markdown",
      "source": [
        "For Loop"
      ],
      "metadata": {
        "id": "S21TahD5PjW1"
      }
    },
    {
      "cell_type": "code",
      "source": [
        "a = [\"R1\",\"R2\",\"R3\",\"R4\"]\n",
        "for item in a:\n",
        "    print(\"Device host name: \"+item)\n",
        "\n",
        "print()\n",
        "\n",
        "a = {\"R1\":\"10.1.1.1\",\"R2\":\"10.2.2.1\",\"R3\":\"10.3.3.1\"}\n",
        "for key,items in a.items():\n",
        "    print(key,\"Ip addr:\",items)\n",
        "\n",
        "# [0, 1, 2, 3, 4] [(0, 0), (1, 1), (2, 2), (3, 3), (4, 4)]\n",
        "print([*range(5)],[*enumerate(range(5))])"
      ],
      "metadata": {
        "colab": {
          "base_uri": "https://localhost:8080/",
          "height": 0
        },
        "id": "TTH35zFkPiq8",
        "outputId": "0283afb5-60d8-49e2-f915-30df575303ee"
      },
      "execution_count": 157,
      "outputs": [
        {
          "output_type": "stream",
          "name": "stdout",
          "text": [
            "Device host name: R1\n",
            "Device host name: R2\n",
            "Device host name: R3\n",
            "Device host name: R4\n",
            "\n",
            "R1 Ip addr: 10.1.1.1\n",
            "R2 Ip addr: 10.2.2.1\n",
            "R3 Ip addr: 10.3.3.1\n",
            "[0, 1, 2, 3, 4] [(0, 0), (1, 1), (2, 2), (3, 3), (4, 4)]\n"
          ]
        }
      ]
    },
    {
      "cell_type": "markdown",
      "source": [
        "While Loop"
      ],
      "metadata": {
        "id": "1ek-4R-NPmu0"
      }
    },
    {
      "cell_type": "code",
      "source": [
        "a = [\"R1\",\"R2\",\"R3\",\"R4\"]\n",
        "x = 0\n",
        "while x < len(a):\n",
        "    print(a[x])\n",
        "    x += 1\n",
        "    if x == 2:\n",
        "        break #ออกจาก Loop"
      ],
      "metadata": {
        "colab": {
          "base_uri": "https://localhost:8080/",
          "height": 0
        },
        "id": "GslqIfpQNtvj",
        "outputId": "6b1ea69f-2896-48d9-de29-08cc17d07904"
      },
      "execution_count": 159,
      "outputs": [
        {
          "output_type": "stream",
          "name": "stdout",
          "text": [
            "R1\n",
            "R2\n"
          ]
        }
      ]
    },
    {
      "cell_type": "markdown",
      "source": [
        "## วิธีการเข้าถึงไฟล์"
      ],
      "metadata": {
        "id": "yavsJdkRHAqi"
      }
    },
    {
      "cell_type": "markdown",
      "source": [
        "open(name, [mode])\n",
        "\n",
        "mode\n",
        "- **r** - อ่านไฟล์ (โหมดเริ่มต้นหากละเว้นโหมด)\n",
        "- **w** - เขียนทับไฟล์ แทนที่เนื้อหาของไฟล์\n",
        "- **a** - เขียนเพิ่มเข้ากับส่วนเก่าไฟล์"
      ],
      "metadata": {
        "id": "Gi09qGgBN35t"
      }
    },
    {
      "cell_type": "code",
      "source": [
        "file=open(\"devices.txt\",\"w\")\n",
        "file.write(\"\"\"Cisco 819 Router\\nCisco 881 Router\\nCisco 888 Router\\nCisco 1100 Router\\nCisco 4321 Router\\nCisco 4331 Router\\nCisco 4351 Router\\nCisco 2960 Catalyst Switch\\nCisco 3850 Catalyst Switch\\nCisco 7700 Nexus Switch\\nCisco Meraki MS220-8 Cloud Managed Switch\\nCisco Meraki MX64W Security Appliance\\nCisco Meraki MX84 Security Appliance\\nCisco Meraki MC74 VoIP Phone\\nCisco 3860 Catalyst Switch\"\"\")\n",
        "file.close()"
      ],
      "metadata": {
        "id": "VElnp6S2N3BJ"
      },
      "execution_count": 134,
      "outputs": []
    },
    {
      "cell_type": "code",
      "source": [
        "!ls"
      ],
      "metadata": {
        "colab": {
          "base_uri": "https://localhost:8080/",
          "height": 0
        },
        "id": "mhx7uV1dSQtU",
        "outputId": "8337e0c1-487c-4e75-e902-d4eac50b6c76"
      },
      "execution_count": 160,
      "outputs": [
        {
          "output_type": "stream",
          "name": "stdout",
          "text": [
            "devfun\tdevices.txt  requirements.txt  sample_data\n"
          ]
        }
      ]
    },
    {
      "cell_type": "code",
      "source": [
        "file=open(\"devices.txt\",\"r\")\n",
        "\n",
        "for item in file:\n",
        "    item=item.strip()\n",
        "    print(item)\n",
        "\n",
        "file.close()"
      ],
      "metadata": {
        "colab": {
          "base_uri": "https://localhost:8080/",
          "height": 0
        },
        "id": "Q9-3bn5oHFFC",
        "outputId": "d79887b9-49d7-410a-da98-d99208ccb522"
      },
      "execution_count": 138,
      "outputs": [
        {
          "output_type": "stream",
          "name": "stdout",
          "text": [
            "Cisco 819 Router\n",
            "Cisco 881 Router\n",
            "Cisco 888 Router\n",
            "Cisco 1100 Router\n",
            "Cisco 4321 Router\n",
            "Cisco 4331 Router\n",
            "Cisco 4351 Router\n",
            "Cisco 2960 Catalyst Switch\n",
            "Cisco 3850 Catalyst Switch\n",
            "Cisco 7700 Nexus Switch\n",
            "Cisco Meraki MS220-8 Cloud Managed Switch\n",
            "Cisco Meraki MX64W Security Appliance\n",
            "Cisco Meraki MX84 Security Appliance\n",
            "Cisco Meraki MC74 VoIP Phone\n",
            "Cisco 3860 Catalyst Switch\n"
          ]
        }
      ]
    }
  ]
}
